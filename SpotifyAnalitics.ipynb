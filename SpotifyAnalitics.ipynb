{
 "cells": [
  {
   "cell_type": "code",
   "execution_count": 38,
   "id": "29a3c8b5",
   "metadata": {},
   "outputs": [],
   "source": [
    "# Instalacion de librerias\n",
    "\n",
    "if False:\n",
    "    !pip install spotipy\n",
    "\n",
    "    \n",
    "SPOTIPY_CLIENT_ID = 'SPOTIPY_CLIENT_ID'\n",
    "SPOTIPY_CLIENT_SECRET = 'SPOTIPY_CLIENT_SECRET'\n",
    "\n",
    "import spotipy\n",
    "from spotipy.oauth2 import SpotifyClientCredentials\n",
    "\n",
    "client_credentials_manager = SpotifyClientCredentials(SPOTIPY_CLIENT_ID, SPOTIPY_CLIENT_SECRET)\n"
   ]
  },
  {
   "cell_type": "code",
   "execution_count": 49,
   "id": "32cbf59e",
   "metadata": {
    "scrolled": true
   },
   "outputs": [
    {
     "name": "stdout",
     "output_type": "stream",
     "text": [
      "2K20, Pt. 3 (Live)\n",
      "2K20, Pt. 2 (Live)\n",
      "2K20, Pt. 1 (Live)\n",
      "King Daddy\n",
      "Muve Sessions: Prestige\n",
      "Prestige\n",
      "Prestige\n",
      "Prestige\n",
      "Prestige\n",
      "Prestige\n",
      "Mundial (Deluxe Version)\n",
      "Mundial\n",
      "Talento de Barrio\n",
      "El Cartel: The Big Boss\n",
      "Barrio Fino En Directo\n",
      "Barrio Fino En Directo\n",
      "Barrio Fino En Directo\n",
      "Barrio Fino (Bonus Track Version)\n",
      "Los Homerun-es\n",
      "El Cangri.com\n"
     ]
    }
   ],
   "source": [
    "# Albunes del artista Daddy Yankee\n",
    "\n",
    "birdy_uri = 'spotify:artist:4VMYDCV2IEDYJArk749S6m'\n",
    "spotify = spotipy.Spotify(client_credentials_manager=client_credentials_manager)\n",
    "\n",
    "results = spotify.artist_albums(birdy_uri, album_type='album')\n",
    "albums = results['items']\n",
    "while results['next']:\n",
    "    results = spotify.next(results)\n",
    "    albums.extend(results['items'])\n",
    "\n",
    "for album in albums:\n",
    "    print(album['name'])"
   ]
  },
  {
   "cell_type": "code",
   "execution_count": 50,
   "id": "950adcf8",
   "metadata": {},
   "outputs": [
    {
     "name": "stdout",
     "output_type": "stream",
     "text": [
      "track    : PROBLEMA\n",
      "cover art: https://i.scdn.co/image/ab67616d0000b2733267bde66a6609c66a246040\n",
      "track    : Relación - Remix\n",
      "cover art: https://i.scdn.co/image/ab67616d0000b27363d74fcb3aaafe8c16e62f9b\n",
      "track    : La Santa\n",
      "cover art: https://i.scdn.co/image/ab67616d0000b273548f7ec52da7313de0c5e4a0\n",
      "track    : Con Calma\n",
      "cover art: https://i.scdn.co/image/ab67616d0000b273896ffcd42561c44fea2bae7b\n",
      "track    : Despacito\n",
      "cover art: https://i.scdn.co/image/ab67616d0000b273ef0d4234e1a645740f77d59c\n",
      "track    : China\n",
      "cover art: https://i.scdn.co/image/ab67616d0000b2733cb695bfc1246bdf66161fce\n",
      "track    : EL PONY\n",
      "cover art: https://i.scdn.co/image/ab67616d0000b273a2ac1174f1ab2287bf33f2a8\n",
      "track    : Gasolina\n",
      "cover art: https://i.scdn.co/image/ab67616d0000b2737f68406bafad6162f6acdf8a\n",
      "track    : Soltera - Remix\n",
      "cover art: https://i.scdn.co/image/ab67616d0000b273fddcbb546dd3440b1897c4c7\n",
      "track    : De Vuelta Pa' La Vuelta\n",
      "cover art: https://i.scdn.co/image/ab67616d0000b27303c8b74945022105f48dd610\n"
     ]
    }
   ],
   "source": [
    "# 10 tracks - Daddy Yankee\n",
    "spotify = spotipy.Spotify(client_credentials_manager=client_credentials_manager)\n",
    "\n",
    "lz_uri = 'spotify:artist:4VMYDCV2IEDYJArk749S6m'\n",
    "\n",
    "results = spotify.artist_top_tracks(lz_uri)\n",
    "\n",
    "for track in results['tracks'][:10]:\n",
    "    print('track    : ' + track['name'])\n",
    "    print('cover art: ' + track['album']['images'][0]['url'])\n",
    "\n"
   ]
  },
  {
   "cell_type": "code",
   "execution_count": null,
   "id": "f93895ce",
   "metadata": {},
   "outputs": [],
   "source": []
  },
  {
   "cell_type": "code",
   "execution_count": null,
   "id": "3cac988a",
   "metadata": {},
   "outputs": [],
   "source": []
  }
 ],
 "metadata": {
  "kernelspec": {
   "display_name": "Python 3",
   "language": "python",
   "name": "python3"
  },
  "language_info": {
   "codemirror_mode": {
    "name": "ipython",
    "version": 3
   },
   "file_extension": ".py",
   "mimetype": "text/x-python",
   "name": "python",
   "nbconvert_exporter": "python",
   "pygments_lexer": "ipython3",
   "version": "3.8.5"
  }
 },
 "nbformat": 4,
 "nbformat_minor": 5
}
